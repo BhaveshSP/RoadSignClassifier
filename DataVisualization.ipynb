{
 "cells": [
  {
   "cell_type": "code",
   "execution_count": 1,
   "id": "d15aa018",
   "metadata": {},
   "outputs": [
    {
     "name": "stderr",
     "output_type": "stream",
     "text": [
      "2022-06-16 11:33:19.885073: W tensorflow/stream_executor/platform/default/dso_loader.cc:64] Could not load dynamic library 'libcudart.so.11.0'; dlerror: libcudart.so.11.0: cannot open shared object file: No such file or directory; LD_LIBRARY_PATH: /home/monkey/.local/lib/python3.9/site-packages/cv2/../../lib64:\n",
      "2022-06-16 11:33:19.885141: I tensorflow/stream_executor/cuda/cudart_stub.cc:29] Ignore above cudart dlerror if you do not have a GPU set up on your machine.\n"
     ]
    },
    {
     "name": "stdout",
     "output_type": "stream",
     "text": [
      "4.5.5\n"
     ]
    }
   ],
   "source": [
    "import cv2 \n",
    "import pandas as pd \n",
    "import numpy as np \n",
    "import matplotlib.pyplot as plt \n",
    "from keras.models import Sequential \n",
    "from keras.optimizers import Adam\n",
    "from keras.utils.np_utils import to_categorical\n",
    "from keras.layers import Dense,Dropout, Flatten\n",
    "from keras.layers.convolutional import Conv2D, MaxPooling2D\n",
    "from sklearn.model_selection import train_test_split \n",
    "from keras.preprocessing.image import ImageDataGenerator \n",
    "import pickle \n",
    "import os \n",
    "import random \n",
    "print(cv2.__version__)\n"
   ]
  },
  {
   "cell_type": "code",
   "execution_count": 2,
   "id": "d1e2cf01",
   "metadata": {},
   "outputs": [],
   "source": [
    "path = \"./data\"\n",
    "images = [] \n",
    "class_no = [] \n",
    "no_of_classes = len(os.listdir(path))\n",
    "for i in os.listdir(path):\n",
    "    for file_name in os.listdir(path+\"/\"+i):\n",
    "        image = cv2.imread(path+\"/\"+i+\"/\"+file_name)\n",
    "        images.append(image)\n",
    "        class_no.append(i)\n",
    "    break\n",
    "images = np.array(images)\n",
    "class_no = np.array(class_no)\n"
   ]
  },
  {
   "cell_type": "code",
   "execution_count": 3,
   "id": "c1bb8055",
   "metadata": {},
   "outputs": [],
   "source": [
    "test_ratio = 0.2 \n",
    "validation_ratio = 0.2 \n",
    "x_train,x_test,y_train,y_test = train_test_split(images,class_no,test_size=test_ratio)\n",
    "x_train,x_validation,y_train,y_validation = train_test_split(x_train,y_train,test_size=validation_ratio)\n"
   ]
  },
  {
   "cell_type": "code",
   "execution_count": 4,
   "id": "474f3958",
   "metadata": {},
   "outputs": [
    {
     "data": {
      "text/html": [
       "<div>\n",
       "<style scoped>\n",
       "    .dataframe tbody tr th:only-of-type {\n",
       "        vertical-align: middle;\n",
       "    }\n",
       "\n",
       "    .dataframe tbody tr th {\n",
       "        vertical-align: top;\n",
       "    }\n",
       "\n",
       "    .dataframe thead th {\n",
       "        text-align: right;\n",
       "    }\n",
       "</style>\n",
       "<table border=\"1\" class=\"dataframe\">\n",
       "  <thead>\n",
       "    <tr style=\"text-align: right;\">\n",
       "      <th></th>\n",
       "      <th>ClassId</th>\n",
       "      <th>Name</th>\n",
       "    </tr>\n",
       "  </thead>\n",
       "  <tbody>\n",
       "    <tr>\n",
       "      <th>0</th>\n",
       "      <td>0</td>\n",
       "      <td>Speed limit (20km/h)</td>\n",
       "    </tr>\n",
       "    <tr>\n",
       "      <th>1</th>\n",
       "      <td>1</td>\n",
       "      <td>Speed limit (30km/h)</td>\n",
       "    </tr>\n",
       "    <tr>\n",
       "      <th>2</th>\n",
       "      <td>2</td>\n",
       "      <td>Speed limit (50km/h)</td>\n",
       "    </tr>\n",
       "    <tr>\n",
       "      <th>3</th>\n",
       "      <td>3</td>\n",
       "      <td>Speed limit (60km/h)</td>\n",
       "    </tr>\n",
       "    <tr>\n",
       "      <th>4</th>\n",
       "      <td>4</td>\n",
       "      <td>Speed limit (70km/h)</td>\n",
       "    </tr>\n",
       "  </tbody>\n",
       "</table>\n",
       "</div>"
      ],
      "text/plain": [
       "   ClassId                  Name\n",
       "0        0  Speed limit (20km/h)\n",
       "1        1  Speed limit (30km/h)\n",
       "2        2  Speed limit (50km/h)\n",
       "3        3  Speed limit (60km/h)\n",
       "4        4  Speed limit (70km/h)"
      ]
     },
     "execution_count": 4,
     "metadata": {},
     "output_type": "execute_result"
    }
   ],
   "source": [
    "labels_dataframe = pd.read_csv(\"labels.csv\")\n",
    "labels_dataframe.head()"
   ]
  },
  {
   "cell_type": "code",
   "execution_count": 5,
   "id": "d0059f1e",
   "metadata": {},
   "outputs": [],
   "source": [
    "def grayscale(image):\n",
    "    return cv2.cvtColor(image,cv2.COLOR_BGR2GRAY)\n",
    "def equalize(image):\n",
    "    return cv2.equalizeHist(image)\n",
    "def preprocessing_image(image):\n",
    "    image = equalize(grayscale(image))\n",
    "    image = image / 255 \n",
    "    return image\n"
   ]
  },
  {
   "cell_type": "code",
   "execution_count": 6,
   "id": "63d314dc",
   "metadata": {},
   "outputs": [],
   "source": [
    "x_train = np.array(list(map(preprocessing_image,x_train)))\n",
    "x_test = np.array(list(map(preprocessing_image,x_test)))\n",
    "x_validation = np.array(list(map(preprocessing_image,x_validation)))\n",
    "shape = x_train.shape\n",
    "x_train = x_train.reshape(shape[0],shape[1],shape[2],1)\n",
    "shape = x_test.shape\n",
    "x_test = x_test.reshape(shape[0],shape[1],shape[2],1)\n",
    "shape = x_validation.shape\n",
    "x_validation = x_validation.reshape(shape[0],shape[1],shape[2],1)"
   ]
  },
  {
   "cell_type": "code",
   "execution_count": 7,
   "id": "1a70aa97",
   "metadata": {},
   "outputs": [],
   "source": [
    "image_generator = ImageDataGenerator(width_shift_range=0.1,height_shift_range=0.1,\n",
    "                                zoom_range=0.2,shear_range=0.1,rotation_range=10)"
   ]
  },
  {
   "cell_type": "code",
   "execution_count": 8,
   "id": "a7ec8f95",
   "metadata": {},
   "outputs": [],
   "source": [
    "image_generator.fit(x_train)\n"
   ]
  },
  {
   "cell_type": "code",
   "execution_count": 9,
   "id": "8c4282bb",
   "metadata": {},
   "outputs": [],
   "source": [
    "batches = image_generator.flow(x_train,y_train,batch_size=20)\n",
    "x_batch, y_batch = next(batches)"
   ]
  },
  {
   "cell_type": "code",
   "execution_count": null,
   "id": "d4445204",
   "metadata": {},
   "outputs": [],
   "source": [
    "no_of_classes = 134 \n",
    "print(len(y_train))\n",
    "y_train =  to_categorical(np.array(y_train),no_of_classes)\n",
    "# y_test =  to_categorical(y_test,no_of_classes)\n",
    "# y_validation = to_categorical(y_validation,no_of_classes)\n"
   ]
  },
  {
   "cell_type": "code",
   "execution_count": 10,
   "id": "6ea991de",
   "metadata": {},
   "outputs": [
    {
     "name": "stderr",
     "output_type": "stream",
     "text": [
      "2022-06-16 11:33:51.955485: W tensorflow/stream_executor/platform/default/dso_loader.cc:64] Could not load dynamic library 'libcuda.so.1'; dlerror: libcuda.so.1: cannot open shared object file: No such file or directory; LD_LIBRARY_PATH: /home/monkey/.local/lib/python3.9/site-packages/cv2/../../lib64:\n",
      "2022-06-16 11:33:51.955555: W tensorflow/stream_executor/cuda/cuda_driver.cc:269] failed call to cuInit: UNKNOWN ERROR (303)\n",
      "2022-06-16 11:33:51.955614: I tensorflow/stream_executor/cuda/cuda_diagnostics.cc:156] kernel driver does not appear to be running on this host (kali): /proc/driver/nvidia/version does not exist\n",
      "2022-06-16 11:33:51.956242: I tensorflow/core/platform/cpu_feature_guard.cc:193] This TensorFlow binary is optimized with oneAPI Deep Neural Network Library (oneDNN) to use the following CPU instructions in performance-critical operations:  AVX2 FMA\n",
      "To enable them in other operations, rebuild TensorFlow with the appropriate compiler flags.\n"
     ]
    },
    {
     "name": "stdout",
     "output_type": "stream",
     "text": [
      "Model: \"sequential\"\n",
      "_________________________________________________________________\n",
      " Layer (type)                Output Shape              Param #   \n",
      "=================================================================\n",
      " conv2d (Conv2D)             (None, 28, 28, 60)        1560      \n",
      "                                                                 \n",
      " conv2d_1 (Conv2D)           (None, 24, 24, 60)        90060     \n",
      "                                                                 \n",
      " max_pooling2d (MaxPooling2D  (None, 12, 12, 60)       0         \n",
      " )                                                               \n",
      "                                                                 \n",
      " conv2d_2 (Conv2D)           (None, 10, 10, 30)        16230     \n",
      "                                                                 \n",
      " conv2d_3 (Conv2D)           (None, 8, 8, 30)          8130      \n",
      "                                                                 \n",
      " max_pooling2d_1 (MaxPooling  (None, 4, 4, 30)         0         \n",
      " 2D)                                                             \n",
      "                                                                 \n",
      " dropout (Dropout)           (None, 4, 4, 30)          0         \n",
      "                                                                 \n",
      " flatten (Flatten)           (None, 480)               0         \n",
      "                                                                 \n",
      " dense (Dense)               (None, 500)               240500    \n",
      "                                                                 \n",
      " dropout_1 (Dropout)         (None, 500)               0         \n",
      "                                                                 \n",
      " dense_1 (Dense)             (None, 43)                21543     \n",
      "                                                                 \n",
      "=================================================================\n",
      "Total params: 378,023\n",
      "Trainable params: 378,023\n",
      "Non-trainable params: 0\n",
      "_________________________________________________________________\n",
      "None\n"
     ]
    },
    {
     "name": "stderr",
     "output_type": "stream",
     "text": [
      "/home/monkey/.local/lib/python3.9/site-packages/keras/optimizers/optimizer_v2/adam.py:110: UserWarning: The `lr` argument is deprecated, use `learning_rate` instead.\n",
      "  super(Adam, self).__init__(name, **kwargs)\n"
     ]
    }
   ],
   "source": [
    "def build_model():\n",
    "    \n",
    "    filters = 60\n",
    "    size_five = (5,5)\n",
    "    size_three = (3,3)\n",
    "    size_two = (2,2)\n",
    "    nodes = 500\n",
    "    model = Sequential()\n",
    "    model.add((Conv2D(filters,size_five,input_shape=(32,32,1),activation=\"relu\")))\n",
    "    model.add((Conv2D(filters,size_five,activation=\"relu\")))\n",
    "    model.add((MaxPooling2D(pool_size=size_two)))\n",
    "    \n",
    "    model.add((Conv2D(filters//2,size_three,activation=\"relu\")))\n",
    "    model.add((Conv2D(filters//2,size_three,activation=\"relu\")))\n",
    "    model.add((MaxPooling2D(pool_size=size_two)))\n",
    "    model.add(Dropout(0.5))\n",
    "    model.add(Flatten())\n",
    "    model.add(Dense(nodes,activation=\"relu\"))\n",
    "    model.add(Dropout(0.5))\n",
    "    model.add(Dense(no_of_classes,activation=\"softmax\"))\n",
    "    model.compile(Adam(lr=0.001),loss=\"categorical_crossentropy\",metrics=[\"accuracy\"])\n",
    "    \n",
    "    return model \n",
    "    \n",
    "model = build_model()\n",
    "print(model.summary())\n",
    "model.fit_generator(image_generator.flow(x_train,y_train,batch_size=50),steps_per_epoch=2000,epochs=30,validation_data=(x_validation,y_validation))\n",
    "\n",
    "score = model.evaluate(x_test,y_test,verbose=0)\n",
    "\n",
    "print(\"Score\",score[0])\n",
    "print(\"Accuracy\",score[1])\n",
    "\n",
    "print(\"Saving Model.....\")\n",
    "pickle_out = open(\"road_classifier_model.p\",\"wb\")\n",
    "pickle.dump(model,pickle_out)\n",
    "pickle_out.close()\n",
    "\n",
    "\n",
    "\n",
    "\n",
    "\n",
    "\n",
    "\n",
    "\n",
    "\n",
    "\n",
    "    "
   ]
  },
  {
   "cell_type": "code",
   "execution_count": null,
   "id": "ed4d840c",
   "metadata": {},
   "outputs": [],
   "source": [
    "capture = cv2.VideoCapture(0)\n",
    "model = pickle.load(open(\"road_classifier_model.p\",\"rb\"))\n",
    "while True :\n",
    "    _, image = capture.read()\n",
    "    image = np.array(image)\n",
    "    image = cv2.resize(image,(32,32))\n",
    "    image = preprocessing(image)\n",
    "    image = image.rehape(1,32,32,1)\n",
    "    prediction = model.predict(image)\n",
    "    class_index = model.predict_classes(image)\n",
    "    print(\"Sign is :\")\n",
    "    print(get_class_name(class_index))\n",
    "    if cv2.waitKey(1)&0xFF == ord(\"s\"):\n",
    "        break\n"
   ]
  }
 ],
 "metadata": {
  "kernelspec": {
   "display_name": "Python 3 (ipykernel)",
   "language": "python",
   "name": "python3"
  },
  "language_info": {
   "codemirror_mode": {
    "name": "ipython",
    "version": 3
   },
   "file_extension": ".py",
   "mimetype": "text/x-python",
   "name": "python",
   "nbconvert_exporter": "python",
   "pygments_lexer": "ipython3",
   "version": "3.9.12"
  }
 },
 "nbformat": 4,
 "nbformat_minor": 5
}
